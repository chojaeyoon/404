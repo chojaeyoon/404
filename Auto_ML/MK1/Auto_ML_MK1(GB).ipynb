{
 "metadata": {
  "language_info": {
   "codemirror_mode": {
    "name": "ipython",
    "version": 3
   },
   "file_extension": ".py",
   "mimetype": "text/x-python",
   "name": "python",
   "nbconvert_exporter": "python",
   "pygments_lexer": "ipython3",
   "version": "3.8.4-final"
  },
  "orig_nbformat": 2,
  "kernelspec": {
   "name": "python3",
   "display_name": "Python 3",
   "language": "python"
  }
 },
 "nbformat": 4,
 "nbformat_minor": 2,
 "cells": [
  {
   "cell_type": "code",
   "execution_count": 4,
   "metadata": {},
   "outputs": [],
   "source": [
    "import numpy as np\n",
    "import pandas as pd\n",
    "import time\n",
    "import random\n",
    "import matplotlib.pyplot as plt\n",
    "import warnings\n",
    "warnings.filterwarnings(action='ignore')\n",
    "from tqdm import tqdm\n",
    "from datetime import date, timedelta\n",
    "from sklearn.cluster import KMeans\n",
    "from sklearn.model_selection import StratifiedKFold, cross_val_score\n",
    "from sklearn.ensemble import GradientBoostingClassifier"
   ]
  },
  {
   "cell_type": "code",
   "execution_count": 5,
   "metadata": {},
   "outputs": [],
   "source": [
    "PATH = '/Users/j/Documents/Projects/404/data/revised_data/'\n",
    "\n",
    "train_err = pd.read_csv(PATH + 'train_err2.csv')\n",
    "train_qui = pd.read_csv(PATH + 'train_qui2.csv')\n",
    "train_prob = pd.read_csv(PATH + 'train_prob2.csv')\n",
    "\n",
    "test_err = pd.read_csv(PATH + 'test_err2.csv')\n",
    "test_qui = pd.read_csv(PATH + 'test_qui2.csv')"
   ]
  },
  {
   "cell_type": "code",
   "execution_count": 6,
   "metadata": {},
   "outputs": [],
   "source": [
    "PATH = '/Users/j/Documents/Projects/404/data/revised_data/'\n",
    "\n",
    "train_err = pd.read_csv(PATH + 'train_err2.csv')\n",
    "train_qui = pd.read_csv(PATH + 'train_qui2.csv')\n",
    "train_prob = pd.read_csv(PATH + 'train_prob2.csv')\n",
    "\n",
    "test_err = pd.read_csv(PATH + 'test_err2.csv')\n",
    "test_qui = pd.read_csv(PATH + 'test_qui2.csv')"
   ]
  },
  {
   "cell_type": "code",
   "execution_count": null,
   "metadata": {},
   "outputs": [],
   "source": [
    "path = '//Users/j/Documents/Projects/404/data/preprocessed/'\n",
    "\n",
    "test_err_42_counts = pd.read_csv(path + '테스트_에러_42항목별_카운트.csv', index_col=['Unnamed: 0'])\n",
    "train_err_42_counts = pd.read_csv(path + '트레인_에러_42항목별_카운트.csv', index_col=['Unnamed: 0'])\n",
    "\n",
    "test_err_sum_byday = pd.read_csv(path +'테스트_에러발생_일일누적합계.csv', index_col=['Unnamed: 0'])\n",
    "train_err_sum_byday = pd.read_csv(path +'트레인_에러발생_일일누적합계.csv', index_col=['Unnamed: \n",
    "\n",
    "test_qui_sum_byday = pd.read_csv(path +'테스트_퀼리티로그_일일수집합계.csv', index_col=['Unnamed: 0'])\n",
    "train_qui_sum_byday = pd.read_csv(path +'트레인_퀼리티로그_일일수집합계.csv', index_col=['Unnamed: 0'])\n",
    "\n",
    "test_2h = pd.read_csv(path +'테스트_err_2시간간격.csv', index_col=['Unnamed: 0'])\n",
    "train_2h = pd.read_csv(path +'트레인_err_2시간간격.csv', index_col=['Unnamed: 0'])\n",
    "\n",
    "train_6h = pd.read_csv(path + '트레인_err_6시간간격.csv', index_col=['Unnamed: 0'])\n",
    "test_6h = pd.read_csv(path + '테스트_err_6시간간격.csv', index_col=['Unnamed: 0'])\n",
    "\n",
    "train_12h = pd.read_csv(path + '트레인_err_12시간간격.csv', index_col=['Unnamed: 0'])\n",
    "test_12h = pd.read_csv(path + '테스트_err_12시간간격.csv', index_col=['Unnamed: 0'])\n",
    "\n",
    "## 퀼리티 데이터를 확률로 환산하여 평균한 값\n",
    "train_qui_prob = pd.read_csv(path + '트레인_퀼리티_확률.csv')#, index_col=['Unnamed: 0'])\n",
    "test_qui_prob = pd.read_csv(path + '테스트_퀼리티_확률.csv')#, index_col=['Unnamed: 0'])\n",
    "\n",
    "train_qui_prob.set_index(keys = 'user_id', inplace=True)\n",
    "test_qui_prob.set_index(keys = 'user_id', inplace=True)"
   ]
  }
 ]
}